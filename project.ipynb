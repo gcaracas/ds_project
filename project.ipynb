{
 "cells": [
  {
   "cell_type": "code",
   "execution_count": 2,
   "metadata": {},
   "outputs": [],
   "source": [
    "import pandas as pd"
   ]
  },
  {
   "cell_type": "code",
   "execution_count": 78,
   "metadata": {},
   "outputs": [
    {
     "data": {
      "text/html": [
       "<div>\n",
       "<style scoped>\n",
       "    .dataframe tbody tr th:only-of-type {\n",
       "        vertical-align: middle;\n",
       "    }\n",
       "\n",
       "    .dataframe tbody tr th {\n",
       "        vertical-align: top;\n",
       "    }\n",
       "\n",
       "    .dataframe thead th {\n",
       "        text-align: right;\n",
       "    }\n",
       "</style>\n",
       "<table border=\"1\" class=\"dataframe\">\n",
       "  <thead>\n",
       "    <tr style=\"text-align: right;\">\n",
       "      <th></th>\n",
       "      <th>Student_ID</th>\n",
       "      <th>Pre_No</th>\n",
       "      <th>TVEP Study</th>\n",
       "      <th>Fall_GRTR_Score</th>\n",
       "      <th>Fall_GRTR_Level</th>\n",
       "      <th>Winter_GRTR_Score</th>\n",
       "      <th>Winter_GRTR_Level</th>\n",
       "      <th>Spring_GRTR_Score</th>\n",
       "      <th>Spring_GRTR_Level</th>\n",
       "      <th>Incomplete_IRI</th>\n",
       "      <th>...</th>\n",
       "      <th>Spring_LNF</th>\n",
       "      <th>Spring_LNF_Level</th>\n",
       "      <th>Spring_LSF</th>\n",
       "      <th>Spring_LSF_Level</th>\n",
       "      <th>Spring_LNF_Growth</th>\n",
       "      <th>Spring_LSF_Growth</th>\n",
       "      <th>am_pm</th>\n",
       "      <th>teacher</th>\n",
       "      <th>school</th>\n",
       "      <th>cohort</th>\n",
       "    </tr>\n",
       "  </thead>\n",
       "  <tbody>\n",
       "    <tr>\n",
       "      <th>0</th>\n",
       "      <td>124282947.0</td>\n",
       "      <td>NaN</td>\n",
       "      <td>NaN</td>\n",
       "      <td>NaN</td>\n",
       "      <td>NaN</td>\n",
       "      <td>NaN</td>\n",
       "      <td>NaN</td>\n",
       "      <td>NaN</td>\n",
       "      <td>NaN</td>\n",
       "      <td>1.0</td>\n",
       "      <td>...</td>\n",
       "      <td>39.0</td>\n",
       "      <td>2.0</td>\n",
       "      <td>68.0</td>\n",
       "      <td>3.0</td>\n",
       "      <td>39.0</td>\n",
       "      <td>68.0</td>\n",
       "      <td>1.0</td>\n",
       "      <td>1.0</td>\n",
       "      <td>0.0</td>\n",
       "      <td>1.0</td>\n",
       "    </tr>\n",
       "    <tr>\n",
       "      <th>1</th>\n",
       "      <td>127648521.0</td>\n",
       "      <td>1.0</td>\n",
       "      <td>NaN</td>\n",
       "      <td>19.0</td>\n",
       "      <td>2.0</td>\n",
       "      <td>20.0</td>\n",
       "      <td>2.0</td>\n",
       "      <td>23.0</td>\n",
       "      <td>1.0</td>\n",
       "      <td>0.0</td>\n",
       "      <td>...</td>\n",
       "      <td>45.0</td>\n",
       "      <td>3.0</td>\n",
       "      <td>34.0</td>\n",
       "      <td>3.0</td>\n",
       "      <td>14.0</td>\n",
       "      <td>25.0</td>\n",
       "      <td>0.0</td>\n",
       "      <td>3.0</td>\n",
       "      <td>1.0</td>\n",
       "      <td>1.0</td>\n",
       "    </tr>\n",
       "  </tbody>\n",
       "</table>\n",
       "<p>2 rows × 29 columns</p>\n",
       "</div>"
      ],
      "text/plain": [
       "    Student_ID  Pre_No  TVEP Study  Fall_GRTR_Score  Fall_GRTR_Level  \\\n",
       "0  124282947.0     NaN         NaN              NaN              NaN   \n",
       "1  127648521.0     1.0         NaN             19.0              2.0   \n",
       "\n",
       "   Winter_GRTR_Score  Winter_GRTR_Level  Spring_GRTR_Score  Spring_GRTR_Level  \\\n",
       "0                NaN                NaN                NaN                NaN   \n",
       "1               20.0                2.0               23.0                1.0   \n",
       "\n",
       "   Incomplete_IRI   ...    Spring_LNF  Spring_LNF_Level  Spring_LSF  \\\n",
       "0             1.0   ...          39.0               2.0        68.0   \n",
       "1             0.0   ...          45.0               3.0        34.0   \n",
       "\n",
       "   Spring_LSF_Level  Spring_LNF_Growth  Spring_LSF_Growth  am_pm  teacher  \\\n",
       "0               3.0               39.0               68.0    1.0      1.0   \n",
       "1               3.0               14.0               25.0    0.0      3.0   \n",
       "\n",
       "   school  cohort  \n",
       "0     0.0     1.0  \n",
       "1     1.0     1.0  \n",
       "\n",
       "[2 rows x 29 columns]"
      ]
     },
     "execution_count": 78,
     "metadata": {},
     "output_type": "execute_result"
    }
   ],
   "source": [
    "df=pd.read_csv(\"./PreK_project.csv\")\n",
    "df.dropna(subset=['Student_ID'], how='all', inplace = True)\n",
    "df[0:2]"
   ]
  },
  {
   "cell_type": "code",
   "execution_count": 79,
   "metadata": {},
   "outputs": [],
   "source": [
    "# We need to arrange our StudentID from float to int, and then to string\n",
    "def convertToBetterIndex(df_t):\n",
    "    strTbl=[]\n",
    "    for a in df_t:\n",
    "        strTbl.append(str(int(a)))\n",
    "    return strTbl\n",
    "    "
   ]
  },
  {
   "cell_type": "code",
   "execution_count": 80,
   "metadata": {},
   "outputs": [
    {
     "data": {
      "text/html": [
       "<div>\n",
       "<style scoped>\n",
       "    .dataframe tbody tr th:only-of-type {\n",
       "        vertical-align: middle;\n",
       "    }\n",
       "\n",
       "    .dataframe tbody tr th {\n",
       "        vertical-align: top;\n",
       "    }\n",
       "\n",
       "    .dataframe thead th {\n",
       "        text-align: right;\n",
       "    }\n",
       "</style>\n",
       "<table border=\"1\" class=\"dataframe\">\n",
       "  <thead>\n",
       "    <tr style=\"text-align: right;\">\n",
       "      <th></th>\n",
       "      <th>Pre_No</th>\n",
       "      <th>TVEP Study</th>\n",
       "      <th>Fall_GRTR_Score</th>\n",
       "      <th>Fall_GRTR_Level</th>\n",
       "      <th>Winter_GRTR_Score</th>\n",
       "      <th>Winter_GRTR_Level</th>\n",
       "      <th>Spring_GRTR_Score</th>\n",
       "      <th>Spring_GRTR_Level</th>\n",
       "      <th>Incomplete_IRI</th>\n",
       "      <th>Fall_LNF</th>\n",
       "      <th>...</th>\n",
       "      <th>Spring_LNF</th>\n",
       "      <th>Spring_LNF_Level</th>\n",
       "      <th>Spring_LSF</th>\n",
       "      <th>Spring_LSF_Level</th>\n",
       "      <th>Spring_LNF_Growth</th>\n",
       "      <th>Spring_LSF_Growth</th>\n",
       "      <th>am_pm</th>\n",
       "      <th>teacher</th>\n",
       "      <th>school</th>\n",
       "      <th>cohort</th>\n",
       "    </tr>\n",
       "    <tr>\n",
       "      <th>Student_ID</th>\n",
       "      <th></th>\n",
       "      <th></th>\n",
       "      <th></th>\n",
       "      <th></th>\n",
       "      <th></th>\n",
       "      <th></th>\n",
       "      <th></th>\n",
       "      <th></th>\n",
       "      <th></th>\n",
       "      <th></th>\n",
       "      <th></th>\n",
       "      <th></th>\n",
       "      <th></th>\n",
       "      <th></th>\n",
       "      <th></th>\n",
       "      <th></th>\n",
       "      <th></th>\n",
       "      <th></th>\n",
       "      <th></th>\n",
       "      <th></th>\n",
       "      <th></th>\n",
       "    </tr>\n",
       "  </thead>\n",
       "  <tbody>\n",
       "    <tr>\n",
       "      <th>124282947</th>\n",
       "      <td>NaN</td>\n",
       "      <td>NaN</td>\n",
       "      <td>NaN</td>\n",
       "      <td>NaN</td>\n",
       "      <td>NaN</td>\n",
       "      <td>NaN</td>\n",
       "      <td>NaN</td>\n",
       "      <td>NaN</td>\n",
       "      <td>1.0</td>\n",
       "      <td>NaN</td>\n",
       "      <td>...</td>\n",
       "      <td>39.0</td>\n",
       "      <td>2.0</td>\n",
       "      <td>68.0</td>\n",
       "      <td>3.0</td>\n",
       "      <td>39.0</td>\n",
       "      <td>68.0</td>\n",
       "      <td>1.0</td>\n",
       "      <td>1.0</td>\n",
       "      <td>0.0</td>\n",
       "      <td>1.0</td>\n",
       "    </tr>\n",
       "    <tr>\n",
       "      <th>127648521</th>\n",
       "      <td>1.0</td>\n",
       "      <td>NaN</td>\n",
       "      <td>19.0</td>\n",
       "      <td>2.0</td>\n",
       "      <td>20.0</td>\n",
       "      <td>2.0</td>\n",
       "      <td>23.0</td>\n",
       "      <td>1.0</td>\n",
       "      <td>0.0</td>\n",
       "      <td>31.0</td>\n",
       "      <td>...</td>\n",
       "      <td>45.0</td>\n",
       "      <td>3.0</td>\n",
       "      <td>34.0</td>\n",
       "      <td>3.0</td>\n",
       "      <td>14.0</td>\n",
       "      <td>25.0</td>\n",
       "      <td>0.0</td>\n",
       "      <td>3.0</td>\n",
       "      <td>1.0</td>\n",
       "      <td>1.0</td>\n",
       "    </tr>\n",
       "  </tbody>\n",
       "</table>\n",
       "<p>2 rows × 28 columns</p>\n",
       "</div>"
      ],
      "text/plain": [
       "            Pre_No  TVEP Study  Fall_GRTR_Score  Fall_GRTR_Level  \\\n",
       "Student_ID                                                         \n",
       "124282947      NaN         NaN              NaN              NaN   \n",
       "127648521      1.0         NaN             19.0              2.0   \n",
       "\n",
       "            Winter_GRTR_Score  Winter_GRTR_Level  Spring_GRTR_Score  \\\n",
       "Student_ID                                                            \n",
       "124282947                 NaN                NaN                NaN   \n",
       "127648521                20.0                2.0               23.0   \n",
       "\n",
       "            Spring_GRTR_Level  Incomplete_IRI  Fall_LNF   ...    Spring_LNF  \\\n",
       "Student_ID                                                ...                 \n",
       "124282947                 NaN             1.0       NaN   ...          39.0   \n",
       "127648521                 1.0             0.0      31.0   ...          45.0   \n",
       "\n",
       "            Spring_LNF_Level  Spring_LSF  Spring_LSF_Level  Spring_LNF_Growth  \\\n",
       "Student_ID                                                                      \n",
       "124282947                2.0        68.0               3.0               39.0   \n",
       "127648521                3.0        34.0               3.0               14.0   \n",
       "\n",
       "            Spring_LSF_Growth  am_pm  teacher  school  cohort  \n",
       "Student_ID                                                     \n",
       "124282947                68.0    1.0      1.0     0.0     1.0  \n",
       "127648521                25.0    0.0      3.0     1.0     1.0  \n",
       "\n",
       "[2 rows x 28 columns]"
      ]
     },
     "execution_count": 80,
     "metadata": {},
     "output_type": "execute_result"
    }
   ],
   "source": [
    "df['Student_ID']=convertToBetterIndex(df['Student_ID'].values)\n",
    "df.set_index('Student_ID', inplace=True)\n",
    "df[0:2]"
   ]
  },
  {
   "cell_type": "code",
   "execution_count": 101,
   "metadata": {},
   "outputs": [
    {
     "name": "stderr",
     "output_type": "stream",
     "text": [
      "D:\\sw\\anaconda\\envs\\fastai\\lib\\site-packages\\ipykernel_launcher.py:7: DeprecationWarning: \n",
      ".ix is deprecated. Please use\n",
      ".loc for label based indexing or\n",
      ".iloc for positional indexing\n",
      "\n",
      "See the documentation here:\n",
      "http://pandas.pydata.org/pandas-docs/stable/indexing.html#ix-indexer-is-deprecated\n",
      "  import sys\n"
     ]
    }
   ],
   "source": [
    "students=['945765668', '577523557','142728168','325383322','514537372','532834342','275522143','236438768',\n",
    "          '912457324','492575653','286764562','982494857','982494857','2358183654','273972562','127648521',\n",
    "          '834171656','852221239','643655377','872582144','666683785','855745397','989538648','183837445',\n",
    "          '983366665','164658334','854644586','923951547','853248442','945653567','386148753','672424336',\n",
    "          '227388697','296549775','618975655','733624274','867823644','823135663']\n",
    "# The following table contains all students that were part of the program prek\n",
    "prekst=df.ix[students]\n"
   ]
  },
  {
   "cell_type": "code",
   "execution_count": 107,
   "metadata": {},
   "outputs": [],
   "source": [
    "noprk = df.index.isin(students)\n",
    "# The followint table contains students that were not in the prek program\n",
    "nonprek=df[~noprk]"
   ]
  },
  {
   "cell_type": "code",
   "execution_count": 113,
   "metadata": {},
   "outputs": [
    {
     "name": "stderr",
     "output_type": "stream",
     "text": [
      "D:\\sw\\anaconda\\envs\\fastai\\lib\\site-packages\\ipykernel_launcher.py:2: SettingWithCopyWarning: \n",
      "A value is trying to be set on a copy of a slice from a DataFrame\n",
      "\n",
      "See the caveats in the documentation: http://pandas.pydata.org/pandas-docs/stable/indexing.html#indexing-view-versus-copy\n",
      "  \n"
     ]
    },
    {
     "data": {
      "text/plain": [
       "count    80.000000\n",
       "mean      6.337500\n",
       "std       7.511921\n",
       "min       0.000000\n",
       "25%       0.000000\n",
       "50%       3.000000\n",
       "75%      10.000000\n",
       "max      29.000000\n",
       "Name: Fall_LSF, dtype: float64"
      ]
     },
     "execution_count": 113,
     "metadata": {},
     "output_type": "execute_result"
    }
   ],
   "source": [
    "t1=nonprek\n",
    "t1.dropna(subset=['Fall_LSF'], how='all', inplace = True)\n",
    "t1=nonprek['Fall_LSF']\n",
    "t1.describe()\n"
   ]
  },
  {
   "cell_type": "code",
   "execution_count": 114,
   "metadata": {},
   "outputs": [
    {
     "name": "stderr",
     "output_type": "stream",
     "text": [
      "D:\\sw\\anaconda\\envs\\fastai\\lib\\site-packages\\ipykernel_launcher.py:2: SettingWithCopyWarning: \n",
      "A value is trying to be set on a copy of a slice from a DataFrame\n",
      "\n",
      "See the caveats in the documentation: http://pandas.pydata.org/pandas-docs/stable/indexing.html#indexing-view-versus-copy\n",
      "  \n"
     ]
    },
    {
     "data": {
      "text/plain": [
       "count    80.000000\n",
       "mean      6.337500\n",
       "std       7.511921\n",
       "min       0.000000\n",
       "25%       0.000000\n",
       "50%       3.000000\n",
       "75%      10.000000\n",
       "max      29.000000\n",
       "Name: Fall_LSF, dtype: float64"
      ]
     },
     "execution_count": 114,
     "metadata": {},
     "output_type": "execute_result"
    }
   ],
   "source": [
    "t1=prekst\n",
    "t1.dropna(subset=['Fall_LSF'], how='all', inplace = True)\n",
    "t1=nonprek['Fall_LSF']\n",
    "t1.describe()"
   ]
  },
  {
   "cell_type": "code",
   "execution_count": null,
   "metadata": {},
   "outputs": [],
   "source": []
  }
 ],
 "metadata": {
  "kernelspec": {
   "display_name": "Python 3",
   "language": "python",
   "name": "python3"
  },
  "language_info": {
   "codemirror_mode": {
    "name": "ipython",
    "version": 3
   },
   "file_extension": ".py",
   "mimetype": "text/x-python",
   "name": "python",
   "nbconvert_exporter": "python",
   "pygments_lexer": "ipython3",
   "version": "3.6.6"
  }
 },
 "nbformat": 4,
 "nbformat_minor": 2
}
