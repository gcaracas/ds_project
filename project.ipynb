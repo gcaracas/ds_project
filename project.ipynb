{
 "cells": [
  {
   "cell_type": "code",
   "execution_count": 2,
   "metadata": {},
   "outputs": [],
   "source": [
    "import pandas as pd\n",
    "import numpy as np\n",
    "import matplotlib, matplotlib.pyplot as plt\n",
    "from matplotlib.ticker import MaxNLocator\n",
    "import seaborn as sns"
   ]
  },
  {
   "cell_type": "code",
   "execution_count": 3,
   "metadata": {},
   "outputs": [],
   "source": [
    "df=pd.read_csv(\"./PreK_project.csv\")\n",
    "df.dropna(subset=['Student_ID'], how='all', inplace = True)"
   ]
  },
  {
   "cell_type": "code",
   "execution_count": 4,
   "metadata": {},
   "outputs": [],
   "source": [
    "# We need to arrange our StudentID from float to int, and then to string\n",
    "def convertToBetterIndex(df_t):\n",
    "    strTbl=[]\n",
    "    for a in df_t:\n",
    "        strTbl.append(str(int(a)))\n",
    "    return strTbl\n",
    "    "
   ]
  },
  {
   "cell_type": "code",
   "execution_count": 5,
   "metadata": {},
   "outputs": [],
   "source": [
    "df['Student_ID']=convertToBetterIndex(df['Student_ID'].values)\n",
    "df.set_index('Student_ID', inplace=True)"
   ]
  },
  {
   "cell_type": "code",
   "execution_count": 6,
   "metadata": {},
   "outputs": [
    {
     "data": {
      "text/html": [
       "<div>\n",
       "<style scoped>\n",
       "    .dataframe tbody tr th:only-of-type {\n",
       "        vertical-align: middle;\n",
       "    }\n",
       "\n",
       "    .dataframe tbody tr th {\n",
       "        vertical-align: top;\n",
       "    }\n",
       "\n",
       "    .dataframe thead th {\n",
       "        text-align: right;\n",
       "    }\n",
       "</style>\n",
       "<table border=\"1\" class=\"dataframe\">\n",
       "  <thead>\n",
       "    <tr style=\"text-align: right;\">\n",
       "      <th></th>\n",
       "      <th>Pre_No</th>\n",
       "      <th>TVEP Study</th>\n",
       "      <th>Fall_GRTR_Score</th>\n",
       "      <th>Fall_GRTR_Level</th>\n",
       "      <th>Winter_GRTR_Score</th>\n",
       "      <th>Winter_GRTR_Level</th>\n",
       "      <th>Spring_GRTR_Score</th>\n",
       "      <th>Spring_GRTR_Level</th>\n",
       "      <th>Incomplete_IRI</th>\n",
       "      <th>Fall_LNF</th>\n",
       "      <th>...</th>\n",
       "      <th>Spring_LNF</th>\n",
       "      <th>Spring_LNF_Level</th>\n",
       "      <th>Spring_LSF</th>\n",
       "      <th>Spring_LSF_Level</th>\n",
       "      <th>Spring_LNF_Growth</th>\n",
       "      <th>Spring_LSF_Growth</th>\n",
       "      <th>am_pm</th>\n",
       "      <th>teacher</th>\n",
       "      <th>school</th>\n",
       "      <th>cohort</th>\n",
       "    </tr>\n",
       "    <tr>\n",
       "      <th>Student_ID</th>\n",
       "      <th></th>\n",
       "      <th></th>\n",
       "      <th></th>\n",
       "      <th></th>\n",
       "      <th></th>\n",
       "      <th></th>\n",
       "      <th></th>\n",
       "      <th></th>\n",
       "      <th></th>\n",
       "      <th></th>\n",
       "      <th></th>\n",
       "      <th></th>\n",
       "      <th></th>\n",
       "      <th></th>\n",
       "      <th></th>\n",
       "      <th></th>\n",
       "      <th></th>\n",
       "      <th></th>\n",
       "      <th></th>\n",
       "      <th></th>\n",
       "      <th></th>\n",
       "    </tr>\n",
       "  </thead>\n",
       "  <tbody>\n",
       "    <tr>\n",
       "      <th>164658334</th>\n",
       "      <td>1.0</td>\n",
       "      <td>NaN</td>\n",
       "      <td>0.0</td>\n",
       "      <td>1.0</td>\n",
       "      <td>0.0</td>\n",
       "      <td>1.0</td>\n",
       "      <td>0.0</td>\n",
       "      <td>1.0</td>\n",
       "      <td>NaN</td>\n",
       "      <td>NaN</td>\n",
       "      <td>...</td>\n",
       "      <td>NaN</td>\n",
       "      <td>NaN</td>\n",
       "      <td>NaN</td>\n",
       "      <td>NaN</td>\n",
       "      <td>NaN</td>\n",
       "      <td>NaN</td>\n",
       "      <td>NaN</td>\n",
       "      <td>NaN</td>\n",
       "      <td>NaN</td>\n",
       "      <td>1.0</td>\n",
       "    </tr>\n",
       "    <tr>\n",
       "      <th>164658334</th>\n",
       "      <td>NaN</td>\n",
       "      <td>NaN</td>\n",
       "      <td>14.0</td>\n",
       "      <td>1.0</td>\n",
       "      <td>18.0</td>\n",
       "      <td>2.0</td>\n",
       "      <td>23.0</td>\n",
       "      <td>2.0</td>\n",
       "      <td>NaN</td>\n",
       "      <td>NaN</td>\n",
       "      <td>...</td>\n",
       "      <td>NaN</td>\n",
       "      <td>NaN</td>\n",
       "      <td>NaN</td>\n",
       "      <td>NaN</td>\n",
       "      <td>NaN</td>\n",
       "      <td>NaN</td>\n",
       "      <td>NaN</td>\n",
       "      <td>NaN</td>\n",
       "      <td>NaN</td>\n",
       "      <td>2.0</td>\n",
       "    </tr>\n",
       "  </tbody>\n",
       "</table>\n",
       "<p>2 rows × 28 columns</p>\n",
       "</div>"
      ],
      "text/plain": [
       "            Pre_No  TVEP Study  Fall_GRTR_Score  Fall_GRTR_Level  \\\n",
       "Student_ID                                                         \n",
       "164658334      1.0         NaN              0.0              1.0   \n",
       "164658334      NaN         NaN             14.0              1.0   \n",
       "\n",
       "            Winter_GRTR_Score  Winter_GRTR_Level  Spring_GRTR_Score  \\\n",
       "Student_ID                                                            \n",
       "164658334                 0.0                1.0                0.0   \n",
       "164658334                18.0                2.0               23.0   \n",
       "\n",
       "            Spring_GRTR_Level  Incomplete_IRI  Fall_LNF   ...    Spring_LNF  \\\n",
       "Student_ID                                                ...                 \n",
       "164658334                 1.0             NaN       NaN   ...           NaN   \n",
       "164658334                 2.0             NaN       NaN   ...           NaN   \n",
       "\n",
       "            Spring_LNF_Level  Spring_LSF  Spring_LSF_Level  Spring_LNF_Growth  \\\n",
       "Student_ID                                                                      \n",
       "164658334                NaN         NaN               NaN                NaN   \n",
       "164658334                NaN         NaN               NaN                NaN   \n",
       "\n",
       "            Spring_LSF_Growth  am_pm  teacher  school  cohort  \n",
       "Student_ID                                                     \n",
       "164658334                 NaN    NaN      NaN     NaN     1.0  \n",
       "164658334                 NaN    NaN      NaN     NaN     2.0  \n",
       "\n",
       "[2 rows x 28 columns]"
      ]
     },
     "execution_count": 6,
     "metadata": {},
     "output_type": "execute_result"
    }
   ],
   "source": [
    "# As you can see, here we have a duplicate, and this is preventing us to replicate the brochure plot.\n",
    "# We will deal with this by removing this entry.\n",
    "df.loc['164658334']"
   ]
  },
  {
   "cell_type": "code",
   "execution_count": 7,
   "metadata": {},
   "outputs": [],
   "source": [
    "# Removing duplicate entries in index\n",
    "df = df[~df.index.duplicated(keep='first')]"
   ]
  },
  {
   "cell_type": "code",
   "execution_count": 8,
   "metadata": {},
   "outputs": [],
   "source": [
    "students=['945765668', '577523557','142728168','325383322','514537372','532834342','275522143','236438768',\n",
    "          '912457324','492575653','286764562','982494857','2358183654','273972562','127648521',\n",
    "          '834171656','852221239','643655377','872582144','666683785','855745397','989538648','183837445',\n",
    "          '983366665','164658334','854644586','923951547','853248442','945653567','386148753','672424336',\n",
    "          '227388697','296549775','618975655','733624274','867823644','823135663']\n",
    "# The following table contains all students that were part of the program prek\n",
    "prekst=df.loc[students]"
   ]
  },
  {
   "cell_type": "code",
   "execution_count": 9,
   "metadata": {},
   "outputs": [],
   "source": [
    "noprk = df.index.isin(students)\n",
    "# The followint table contains students that were not in the prek program\n",
    "nonprek=df[~noprk]"
   ]
  },
  {
   "cell_type": "code",
   "execution_count": 10,
   "metadata": {},
   "outputs": [],
   "source": [
    "def getMean(dataset, indexStr):\n",
    "    # Remove all Nan in row/index\n",
    "    dataset.dropna(subset=[indexStr], how='all', inplace = True)\n",
    "    col=dataset[indexStr]\n",
    "    return col.mean()"
   ]
  },
  {
   "cell_type": "markdown",
   "metadata": {},
   "source": [
    "<body>\n",
    "    <section style=\"background-color:White; font-family:Georgia;text-align:center\">\n",
    "        <h2 style=\"font-family:Garamond; color:solid #229954\">Result 1</h2>\n",
    "        <h3 style=\"font-family:Garamond;\">Replicating results from Boise Pre-K Program Evaluation 2017</h3>\n",
    "        <h4 style=\"font-family:Garamond;\">Page 7</h4>\n",
    "        <hr/>\n",
    "    </section>\n",
    "</body>"
   ]
  },
  {
   "cell_type": "code",
   "execution_count": 11,
   "metadata": {},
   "outputs": [
    {
     "name": "stdout",
     "output_type": "stream",
     "text": [
      "Fall LSF No Vista Pre-k =  6.3375\n",
      "Fall LSF Vista Pre-k =  13.409090909090908\n",
      "Fall LNF No Vista Pre-k =  16.2\n",
      "Fall LNF Vista Pre-k =  26.363636363636363\n"
     ]
    }
   ],
   "source": [
    "print(\"Fall LSF No Vista Pre-k = \", getMean(nonprek.copy(), 'Fall_LSF'))\n",
    "print(\"Fall LSF Vista Pre-k = \", getMean(prekst.copy(), 'Fall_LSF'))\n",
    "print(\"Fall LNF No Vista Pre-k = \", getMean(nonprek.copy(), 'Fall_LNF'))\n",
    "print(\"Fall LNF Vista Pre-k = \", getMean(prekst.copy(), 'Fall_LNF'))"
   ]
  },
  {
   "cell_type": "code",
   "execution_count": 12,
   "metadata": {},
   "outputs": [
    {
     "name": "stdout",
     "output_type": "stream",
     "text": [
      "Winter LSF No Vista Pre-k =  25.22093023255814\n",
      "Winter LSF Vista Pre-k =  31.347826086956523\n",
      "Winter LNF No Vista Pre-k =  32.86046511627907\n",
      "Winter LNF Vista Pre-k =  36.52173913043478\n"
     ]
    }
   ],
   "source": [
    "print(\"Winter LSF No Vista Pre-k = \", getMean(nonprek.copy(), 'Winter_LSF'))\n",
    "print(\"Winter LSF Vista Pre-k = \", getMean(prekst.copy(), 'Winter_LSF'))\n",
    "print(\"Winter LNF No Vista Pre-k = \", getMean(nonprek.copy(), 'Winter_LNF'))\n",
    "print(\"Winter LNF Vista Pre-k = \", getMean(prekst.copy(), 'Winter_LNF'))"
   ]
  },
  {
   "cell_type": "code",
   "execution_count": 13,
   "metadata": {},
   "outputs": [
    {
     "name": "stdout",
     "output_type": "stream",
     "text": [
      "Spring LSF No Vista Pre-k =  40.38297872340426\n",
      "Spring LSF Vista Pre-k =  45.0\n",
      "Spring LNF No Vista Pre-k =  41.07446808510638\n",
      "Spring LNF Vista Pre-k =  46.26086956521739\n"
     ]
    }
   ],
   "source": [
    "print(\"Spring LSF No Vista Pre-k = \", getMean(nonprek.copy(), 'Spring_LSF'))\n",
    "print(\"Spring LSF Vista Pre-k = \", getMean(prekst.copy(), 'Spring_LSF'))\n",
    "print(\"Spring LNF No Vista Pre-k = \", getMean(nonprek.copy(), 'Spring_LNF'))\n",
    "print(\"Spring LNF Vista Pre-k = \", getMean(prekst.copy(), 'Spring_LNF'))"
   ]
  },
  {
   "cell_type": "markdown",
   "metadata": {},
   "source": [
    "<body>\n",
    "    <section style=\"background-color:White; font-family:Georgia;text-align:center\">\n",
    "        <h2 style=\"font-family:Garamond; color:solid #229954\">Result 1</h2>\n",
    "        <h3 style=\"font-family:Garamond;\">Replicating results from Boise Pre-K Program Evaluation 2017</h3>\n",
    "        <h4 style=\"font-family:Garamond;\">Page 9</h4>\n",
    "        <hr/>\n",
    "    </section>\n",
    "</body>"
   ]
  },
  {
   "cell_type": "code",
   "execution_count": 14,
   "metadata": {},
   "outputs": [],
   "source": [
    "# We need to arrange our StudentID from float to int, and then to string\n",
    "def convertToInt(df_t):\n",
    "    strTbl=[]\n",
    "    for a in df_t:\n",
    "        strTbl.append(int(a))\n",
    "    return strTbl\n",
    "    "
   ]
  },
  {
   "cell_type": "code",
   "execution_count": 15,
   "metadata": {},
   "outputs": [],
   "source": [
    "def getListValues(dataset, firstSelector, secondSelector):\n",
    "    tbl = dataset.reset_index()\n",
    "    data = tbl.groupby([firstSelector])[[secondSelector]].count()\n",
    "    data = data.reset_index()\n",
    "    data['firstSelector']=convertToInt(data[firstSelector].values)\n",
    "    return list(data[secondSelector])"
   ]
  },
  {
   "cell_type": "code",
   "execution_count": 16,
   "metadata": {},
   "outputs": [],
   "source": [
    "def getBelowAverages(dataset):\n",
    "    tbl = dataset.reset_index()\n",
    "    data = tbl.groupby(['Fall_GRTR_Level'])[['Student_ID']].count()\n",
    "    data = data.reset_index()\n",
    "    data['Fall_GRTR_Level']=convertToInt(data['Fall_GRTR_Level'].values)\n",
    "    fall = (list(data['Student_ID']))[0]\n",
    "    \n",
    "    data = tbl.groupby(['Winter_GRTR_Level'])[['Student_ID']].count()\n",
    "    data = data.reset_index()\n",
    "    data['Winter_GRTR_Level']=convertToInt(data['Winter_GRTR_Level'].values)\n",
    "    winter = (list(data['Student_ID']))[0]\n",
    "    \n",
    "    data = tbl.groupby(['Spring_GRTR_Level'])[['Student_ID']].count()\n",
    "    data = data.reset_index()\n",
    "    data['Spring_GRTR_Level']=convertToInt(data['Spring_GRTR_Level'].values)\n",
    "    spring = (list(data['Student_ID']))[0]\n",
    "    \n",
    "    return [fall, winter, spring]\n",
    "def getAverages(dataset):\n",
    "    tbl = dataset.reset_index()\n",
    "    data = tbl.groupby(['Fall_GRTR_Level'])[['Student_ID']].count()\n",
    "    data = data.reset_index()\n",
    "    data['Fall_GRTR_Level']=convertToInt(data['Fall_GRTR_Level'].values)\n",
    "    fall = (list(data['Student_ID']))[1]\n",
    "    \n",
    "    data = tbl.groupby(['Winter_GRTR_Level'])[['Student_ID']].count()\n",
    "    data = data.reset_index()\n",
    "    data['Winter_GRTR_Level']=convertToInt(data['Winter_GRTR_Level'].values)\n",
    "    winter = (list(data['Student_ID']))[1]\n",
    "    \n",
    "    data = tbl.groupby(['Spring_GRTR_Level'])[['Student_ID']].count()\n",
    "    data = data.reset_index()\n",
    "    data['Spring_GRTR_Level']=convertToInt(data['Spring_GRTR_Level'].values)\n",
    "    spring = (list(data['Student_ID']))[1]\n",
    "    \n",
    "    return [fall, winter, spring]\n",
    "def getAboveAverages(dataset):\n",
    "    tbl = dataset.reset_index()\n",
    "    data = tbl.groupby(['Fall_GRTR_Level'])[['Student_ID']].count()\n",
    "    data = data.reset_index()\n",
    "    data['Fall_GRTR_Level']=convertToInt(data['Fall_GRTR_Level'].values)\n",
    "    fall = (list(data['Student_ID']))[2]\n",
    "    \n",
    "    data = tbl.groupby(['Winter_GRTR_Level'])[['Student_ID']].count()\n",
    "    data = data.reset_index()\n",
    "    data['Winter_GRTR_Level']=convertToInt(data['Winter_GRTR_Level'].values)\n",
    "    winter = (list(data['Student_ID']))[2]\n",
    "    \n",
    "    data = tbl.groupby(['Spring_GRTR_Level'])[['Student_ID']].count()\n",
    "    data = data.reset_index()\n",
    "    data['Spring_GRTR_Level']=convertToInt(data['Spring_GRTR_Level'].values)\n",
    "    spring = (list(data['Student_ID']))[2]\n",
    "    \n",
    "    return [fall, winter, spring]"
   ]
  },
  {
   "cell_type": "code",
   "execution_count": 17,
   "metadata": {},
   "outputs": [
    {
     "data": {
      "image/png": "[encoded data removed]",
      "text/plain": [
       "<Figure size 864x504 with 1 Axes>"
      ]
     },
     "metadata": {
      "needs_background": "light"
     },
     "output_type": "display_data"
    }
   ],
   "source": [
    "fig, ax = plt.subplots(figsize=(12, 7))\n",
    "N = 3 #Number of groups\n",
    "width = 0.40         # the width of the bars\n",
    "ind = np.arange(N)    # the x locations for the groups\n",
    "\n",
    "x=[0, 2, 4]\n",
    "fall = getListValues(prekst.copy(), 'Fall_GRTR_Level','Student_ID')\n",
    "\n",
    "ba = getBelowAverages(prekst.copy())\n",
    "av = getAverages(prekst.copy())\n",
    "aa = getAboveAverages(prekst.copy())\n",
    "\n",
    "#ax = plt.figure().gca()\n",
    "ax.yaxis.set_major_locator(MaxNLocator(integer=True))\n",
    "\n",
    "p1 = ax.bar(x,ba, width, color='deepskyblue', bottom=0)\n",
    "p2 = ax.bar(ind*2 + width , av, width,color='orangered')\n",
    "p3 = ax.bar(ind*2 + width*2, aa, width,color='royalblue')\n",
    "\n",
    "ax.set_title('Cohort 1 Get Ready To Read Levels (2015-2016)')\n",
    "ax.set_xticks((ind*2) + width/2)\n",
    "ax.set_xticklabels(('Fall', 'Winter', 'Spring'))\n",
    "ax.set_ylabel('number of students')\n",
    "\n",
    "ax.grid(True)\n",
    "ax.legend((p1[0], p2[0], p3[0]), ('below average', 'average', 'above average'),loc='upper left')\n",
    "ax.autoscale_view()\n",
    "plt.show()"
   ]
  },
  {
   "cell_type": "code",
   "execution_count": 122,
   "metadata": {},
   "outputs": [
    {
     "data": {
      "text/plain": [
       "Index(['Pre_No', 'TVEP Study', 'Fall_GRTR_Score', 'Fall_GRTR_Level',\n",
       "       'Winter_GRTR_Score', 'Winter_GRTR_Level', 'Spring_GRTR_Score',\n",
       "       'Spring_GRTR_Level', 'Incomplete_IRI', 'Fall_LNF', 'Fall_Level',\n",
       "       'Fall_LSF', 'Winter_LNF', 'Winter_LNF_Level', 'Winter_LSF',\n",
       "       'Winter_LSF_Level', 'Winter_LNF_Growth', 'Winter_LSF_Growth',\n",
       "       'Spring_LNF', 'Spring_LNF_Level', 'Spring_LSF', 'Spring_LSF_Level',\n",
       "       'Spring_LNF_Growth', 'Spring_LSF_Growth', 'am_pm', 'teacher', 'school',\n",
       "       'cohort'],\n",
       "      dtype='object')"
      ]
     },
     "execution_count": 122,
     "metadata": {},
     "output_type": "execute_result"
    }
   ],
   "source": [
    "prekst.columns"
   ]
  },
  {
   "cell_type": "markdown",
   "metadata": {},
   "source": [
    "<body>\n",
    "    <section style=\"background-color:White; font-family:Georgia;text-align:center\">\n",
    "        <h2 style=\"font-family:Garamond; color:solid #229954\">Trending improvement in Get Ready To Read score</h2>\n",
    "        <h3 style=\"font-family:Garamond;\">Question: Are students who start the pre-k program, show improvement from fall to spring on their Get Ready To Read scores?</h3>\n",
    "        <hr/>\n",
    "    </section>\n",
    "</body>"
   ]
  },
  {
   "cell_type": "code",
   "execution_count": 33,
   "metadata": {},
   "outputs": [
    {
     "data": {
      "text/plain": [
       "<seaborn.axisgrid.PairGrid at 0x204fafbdcc0>"
      ]
     },
     "execution_count": 33,
     "metadata": {},
     "output_type": "execute_result"
    },
    {
     "data": {
      "image/png": "[encoded data removed]",
      "text/plain": [
       "<Figure size 180x180 with 1 Axes>"
      ]
     },
     "metadata": {
      "needs_background": "light"
     },
     "output_type": "display_data"
    }
   ],
   "source": [
    "sns.pairplot(prekst, x_vars=\"Fall_GRTR_Score\", y_vars=\"Spring_GRTR_Score\",kind=\"reg\")"
   ]
  },
  {
   "cell_type": "markdown",
   "metadata": {},
   "source": [
    "<body>\n",
    "    <section style=\"background-color:White; font-family:Georgia;text-align:center\">\n",
    "        <h2 style=\"font-family:Garamond; color:solid #229954\">Rate of improvement on pre-k and no pre-k students together</h2>\n",
    "        <h3 style=\"font-family:Garamond;\">Question: On Kindergardent, do we see any difference on improvement rate between kids with and without pre-k?</h3>\n",
    "        <h4>Preliminary observation: Here we will use the slope of our regression to measure that and we do see that kids with pre-k have a higher rate of imporovement (higher slope) on both, LNF and LSF</h4>\n",
    "        <hr/>\n",
    "    </section>\n",
    "</body>"
   ]
  },
  {
   "cell_type": "code",
   "execution_count": 143,
   "metadata": {},
   "outputs": [
    {
     "name": "stdout",
     "output_type": "stream",
     "text": [
      "LNF Scores for pre-k Students\n",
      "LNF Scores for pre-k Students\n"
     ]
    },
    {
     "data": {
      "text/plain": [
       "(0, 100)"
      ]
     },
     "execution_count": 143,
     "metadata": {},
     "output_type": "execute_result"
    },
    {
     "data": {
      "image/png": "[encoded data removed]",
      "text/plain": [
       "<Figure size 180x180 with 1 Axes>"
      ]
     },
     "metadata": {
      "needs_background": "light"
     },
     "output_type": "display_data"
    },
    {
     "data": {
      "image/png": "[encoded data removed]",
      "text/plain": [
       "<Figure size 180x180 with 1 Axes>"
      ]
     },
     "metadata": {
      "needs_background": "light"
     },
     "output_type": "display_data"
    }
   ],
   "source": [
    "print(\"LNF Scores for pre-k Students\")\n",
    "p1=sns.pairplot(prekst, x_vars=[\"Fall_LNF\"],y_vars=\"Spring_LNF\", kind='reg')\n",
    "axes = p1.axes\n",
    "axes[0,0].set_ylim(0,100)\n",
    "print(\"LNF Scores for pre-k Students\")\n",
    "p2=sns.pairplot(prekst, x_vars=[\"Fall_LSF\"],y_vars=\"Spring_LSF\", kind='reg')\n",
    "axes = p2.axes\n",
    "axes[0,0].set_ylim(0,100)"
   ]
  },
  {
   "cell_type": "code",
   "execution_count": 144,
   "metadata": {},
   "outputs": [
    {
     "name": "stdout",
     "output_type": "stream",
     "text": [
      "LNF Scores for no pre-k Students\n",
      "LSF Scores for no pre-k Students\n"
     ]
    },
    {
     "data": {
      "text/plain": [
       "(0, 100)"
      ]
     },
     "execution_count": 144,
     "metadata": {},
     "output_type": "execute_result"
    },
    {
     "data": {
      "image/png": "[encoded data removed]",
      "text/plain": [
       "<Figure size 180x180 with 1 Axes>"
      ]
     },
     "metadata": {
      "needs_background": "light"
     },
     "output_type": "display_data"
    },
    {
     "data": {
      "image/png": "[encoded data removed]",
      "text/plain": [
       "<Figure size 180x180 with 1 Axes>"
      ]
     },
     "metadata": {
      "needs_background": "light"
     },
     "output_type": "display_data"
    }
   ],
   "source": [
    "print(\"LNF Scores for no pre-k Students\")\n",
    "p1=sns.pairplot(nonprek, x_vars=[\"Fall_LNF\"],y_vars=\"Spring_LNF\", kind='reg')\n",
    "axes = p1.axes\n",
    "axes[0,0].set_ylim(0,100)\n",
    "print(\"LSF Scores for no pre-k Students\")\n",
    "p2=sns.pairplot(nonprek, x_vars=[\"Fall_LSF\"],y_vars=\"Spring_LSF\", kind='reg')\n",
    "axes = p2.axes\n",
    "axes[0,0].set_ylim(0,100)"
   ]
  },
  {
   "cell_type": "markdown",
   "metadata": {},
   "source": [
    "Now let's get the real numbers on rate of learning (our m slope from the regression)"
   ]
  },
  {
   "cell_type": "code",
   "execution_count": 113,
   "metadata": {},
   "outputs": [],
   "source": [
    "# Import SK Learn train test split\n",
    "from sklearn.linear_model import LinearRegression\n",
    "from sklearn.cross_validation import train_test_split\n",
    "def getSlope(X, y):\n",
    "    # Assign variables to capture train test split output\n",
    "    #X_train, X_test, y_train, y_test = train_test_split(X, y)\n",
    "    # Instantiate\n",
    "    linreg = LinearRegression()\n",
    "    linreg.fit(X, y)\n",
    "    return linreg.coef_[0]"
   ]
  },
  {
   "cell_type": "markdown",
   "metadata": {},
   "source": [
    "<body>\n",
    "    <section style=\"background-color:White; font-family:Georgia;text-align:center\">\n",
    "        <h3 style=\"font-family:Garamond;\">Question: What is the quantitative learning rate in LNF from students with and without Pre-k</h3>\n",
    "        <hr/>\n",
    "    </section>\n",
    "</body>"
   ]
  },
  {
   "cell_type": "code",
   "execution_count": 115,
   "metadata": {},
   "outputs": [
    {
     "name": "stdout",
     "output_type": "stream",
     "text": [
      "LNF Learning rate for studenst non pre-K From Fall to Winter = [0.69921721]\n"
     ]
    }
   ],
   "source": [
    "toEval = nonprek.copy()\n",
    "X = toEval['Fall_LNF']\n",
    "y = toEval['Winter_LNF']\n",
    "X[0]=0 # Fix an issue because the first sample is Nan thus ffill is ineffective for first sample\n",
    "X=X.fillna(method='ffill')\n",
    "y=y.fillna(method='ffill')\n",
    "X=X.values.reshape(-1,1)\n",
    "y=y.values.reshape(-1,1)\n",
    "print(\"LNF Learning rate for studenst non pre-K From Fall to Winter =\",getSlope(X,y))\n"
   ]
  },
  {
   "cell_type": "code",
   "execution_count": 117,
   "metadata": {},
   "outputs": [
    {
     "name": "stdout",
     "output_type": "stream",
     "text": [
      "LNF Learning rate for studenst pre-K From Fall to Winter = [1.01872332]\n"
     ]
    }
   ],
   "source": [
    "toEval = prekst.copy()\n",
    "X = toEval['Fall_LNF']\n",
    "y = toEval['Winter_LNF']\n",
    "X[0]=0 # Fix an issue because the first sample is Nan thus ffill is ineffective for first sample\n",
    "X=X.fillna(method='ffill')\n",
    "y=y.fillna(method='ffill')\n",
    "X=X.values.reshape(-1,1)\n",
    "y=y.values.reshape(-1,1)\n",
    "print(\"LNF Learning rate for studenst pre-K From Fall to Winter =\",getSlope(X,y))"
   ]
  },
  {
   "cell_type": "markdown",
   "metadata": {},
   "source": [
    "<body>\n",
    "    <section style=\"background-color:White; font-family:Georgia;text-align:center\">\n",
    "        <h3 style=\"font-family:Garamond;\">Question: What is the quantitative learning rate in LSF from students with and without Pre-k</h3>\n",
    "        <hr/>\n",
    "    </section>\n",
    "</body>"
   ]
  },
  {
   "cell_type": "code",
   "execution_count": 119,
   "metadata": {},
   "outputs": [
    {
     "name": "stdout",
     "output_type": "stream",
     "text": [
      "LSF Learning rate for studenst non pre-K From Fall to Winter = [1.1361879]\n"
     ]
    }
   ],
   "source": [
    "toEval = nonprek.copy()\n",
    "X = toEval['Fall_LSF']\n",
    "y = toEval['Winter_LSF']\n",
    "X[0]=0 # Fix an issue because the first sample is Nan thus ffill is ineffective for first sample\n",
    "X=X.fillna(method='ffill')\n",
    "y=y.fillna(method='ffill')\n",
    "X=X.values.reshape(-1,1)\n",
    "y=y.values.reshape(-1,1)\n",
    "print(\"LSF Learning rate for studenst non pre-K From Fall to Winter =\",getSlope(X,y))\n"
   ]
  },
  {
   "cell_type": "code",
   "execution_count": 120,
   "metadata": {},
   "outputs": [
    {
     "name": "stdout",
     "output_type": "stream",
     "text": [
      "LSF Learning rate for studenst pre-K From Fall to Winter = [1.194067]\n"
     ]
    }
   ],
   "source": [
    "toEval = prekst.copy()\n",
    "X = toEval['Fall_LSF']\n",
    "y = toEval['Winter_LSF']\n",
    "X[0]=0 # Fix an issue because the first sample is Nan thus ffill is ineffective for first sample\n",
    "X=X.fillna(method='ffill')\n",
    "y=y.fillna(method='ffill')\n",
    "X=X.values.reshape(-1,1)\n",
    "y=y.values.reshape(-1,1)\n",
    "print(\"LSF Learning rate for studenst pre-K From Fall to Winter =\",getSlope(X,y))"
   ]
  },
  {
   "cell_type": "markdown",
   "metadata": {},
   "source": [
    "<body>\n",
    "    <section style=\"background-color:White; font-family:Georgia;text-align:center\">\n",
    "        <h3 style=\"font-family:Garamond;\">Question: Is there a difference in learning rate between high performers from both groups?</h3>\n",
    "        <h3 style=\"font-family:Garamond;\">Observation: The following plots have the same scale</h3>\n",
    "        <hr/>\n",
    "    </section>\n",
    "</body>"
   ]
  },
  {
   "cell_type": "code",
   "execution_count": 151,
   "metadata": {},
   "outputs": [],
   "source": [
    "pkhp = prekst[prekst['Fall_Level'] == 3]\n",
    "npkhp = nonprek[nonprek['Fall_Level'] == 3]"
   ]
  },
  {
   "cell_type": "code",
   "execution_count": 152,
   "metadata": {},
   "outputs": [
    {
     "name": "stdout",
     "output_type": "stream",
     "text": [
      "LNF Scores for pre-k Students\n"
     ]
    },
    {
     "data": {
      "text/plain": [
       "seaborn.axisgrid.PairGrid"
      ]
     },
     "execution_count": 152,
     "metadata": {},
     "output_type": "execute_result"
    },
    {
     "data": {
      "image/png": "[encoded data removed]",
      "text/plain": [
       "<Figure size 180x180 with 1 Axes>"
      ]
     },
     "metadata": {
      "needs_background": "light"
     },
     "output_type": "display_data"
    }
   ],
   "source": [
    "print(\"LNF Scores for pre-k Students\")\n",
    "p1=sns.pairplot(pkhp, x_vars=[\"Fall_LNF\"],y_vars=\"Spring_LNF\", kind='reg')\n",
    "axes = p1.axes\n",
    "axes[0,0].set_ylim(0,100)\n",
    "type(p1)"
   ]
  },
  {
   "cell_type": "code",
   "execution_count": 140,
   "metadata": {},
   "outputs": [
    {
     "name": "stdout",
     "output_type": "stream",
     "text": [
      "LSF Scores for no pre-k Students\n"
     ]
    },
    {
     "data": {
      "text/plain": [
       "(0, 100)"
      ]
     },
     "execution_count": 140,
     "metadata": {},
     "output_type": "execute_result"
    },
    {
     "data": {
      "image/png": "[encoded data removed]",
      "text/plain": [
       "<Figure size 180x180 with 1 Axes>"
      ]
     },
     "metadata": {
      "needs_background": "light"
     },
     "output_type": "display_data"
    }
   ],
   "source": [
    "print(\"LSF Scores for no pre-k Students\")\n",
    "p2=sns.pairplot(npkhp, x_vars=[\"Fall_LNF\"],y_vars=\"Spring_LNF\", kind='reg')\n",
    "axes = p2.axes\n",
    "axes[0,0].set_ylim(0,100)"
   ]
  },
  {
   "cell_type": "markdown",
   "metadata": {},
   "source": [
    "Observations so far that we can formulate questions/answers."
   ]
  },
  {
   "cell_type": "markdown",
   "metadata": {},
   "source": [
    "We did this for mid and low performers and alghouth they scored higher from Fall to Spring, the learning rate was flat or decreased a bit. This might explain why in "
   ]
  }
 ],
 "metadata": {
  "kernelspec": {
   "display_name": "Python 3",
   "language": "python",
   "name": "python3"
  },
  "language_info": {
   "codemirror_mode": {
    "name": "ipython",
    "version": 3
   },
   "file_extension": ".py",
   "mimetype": "text/x-python",
   "name": "python",
   "nbconvert_exporter": "python",
   "pygments_lexer": "ipython3",
   "version": "3.6.6"
  }
 },
 "nbformat": 4,
 "nbformat_minor": 2
}
